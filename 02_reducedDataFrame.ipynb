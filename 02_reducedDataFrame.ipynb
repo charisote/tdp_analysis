{
 "cells": [
  {
   "cell_type": "code",
   "execution_count": null,
   "metadata": {
    "collapsed": true
   },
   "outputs": [],
   "source": [
    "import pandas as pd \n",
    "import numpy as np\n",
    "import pickle\n",
    "import scipy.stats"
   ]
  },
  {
   "cell_type": "code",
   "execution_count": null,
   "metadata": {},
   "outputs": [],
   "source": [
    "file_Name = \"C:/Users/Charity Faith/Desktop/Data/_01_finalDF\"\n",
    "fileObject = open(file_Name,'rb') \n",
    "finalDF = pickle.load(fileObject)\n",
    "fileObject.close()\n",
    "finalDF"
   ]
  },
  {
   "cell_type": "code",
   "execution_count": null,
   "metadata": {},
   "outputs": [],
   "source": [
    "'''\n",
    "NAME: allT_test\n",
    "DESCRIPTION: Take in a dataframe and run t-test for all variables, case vs. control\n",
    "INPUT: dataframe\n",
    "OUTPUT: list\n",
    "'''\n",
    "# TO DO: change this to just a dataframe, no need for dictionary anymore\n",
    "def allT_test(df, groupA, groupB, alpha=0.05):\n",
    "    index = df.columns[:-1].copy()\n",
    "    endDF = pd.DataFrame(index=index, columns=['p-value'])\n",
    "    dataA = df[df['Case/Control'] == groupA]\n",
    "    dataB = df[df['Case/Control'] == groupB]\n",
    "    for variable in index:\n",
    "        tempA = dataA[variable]\n",
    "        tempB = dataB[variable]\n",
    "        testVal = scipy.stats.ttest_ind(tempA, tempB)\n",
    "        if testVal[1] <= alpha:\n",
    "            endDF.loc[variable]['p-value'] = testVal[1]\n",
    "    return endDF.dropna(how='any')\n",
    "\n",
    "conTest = allT_test(finalDF, groupA='2', groupB='3', alpha=0.0001)\n",
    "casTest = allT_test(finalDF, groupA='1', groupB='2', alpha=0.0001)\n",
    "\n",
    "sigSNP = [snp for snp in casTest.index if snp not in conTest.index]"
   ]
  },
  {
   "cell_type": "code",
   "execution_count": null,
   "metadata": {},
   "outputs": [],
   "source": [
    "len(conTest)"
   ]
  },
  {
   "cell_type": "code",
   "execution_count": null,
   "metadata": {},
   "outputs": [],
   "source": [
    "len(casTest)"
   ]
  },
  {
   "cell_type": "code",
   "execution_count": null,
   "metadata": {},
   "outputs": [],
   "source": [
    "'''\n",
    "NAME: simpleOut\n",
    "DESCRIPTION: Given a column with 1, 2, 3 turn 1 to case = 1 and 2, 3 control = 0\n",
    "INPUT: column\n",
    "OUTPUT: column\n",
    "'''\n",
    "def simpleOut(x):\n",
    "    if x == '2' or x == '3':\n",
    "        x = 0\n",
    "    elif x == '1':\n",
    "        x = 1\n",
    "    else:\n",
    "        x = np.NaN\n",
    "    return(x)\n",
    "\n",
    "# we only care about case = 1 and control A = 2 now\n",
    "subsetDF =  finalDF[finalDF['Case/Control'].isin(['1','2'])]\n",
    "subsetDF['Outcome'] = subsetDF['Case/Control'].apply(simpleOut)\n",
    "subsetDF.drop('Case/Control', axis=1, inplace=True)\n",
    "\n",
    "subsetDF_all = subsetDF.copy()\n",
    "\n",
    "xVar = sigSNP\n",
    "yVar = 'Outcome'\n",
    "subsetDF_some = subsetDF[xVar+[yVar]]\n",
    "subsetDF_some.head()"
   ]
  },
  {
   "cell_type": "code",
   "execution_count": null,
   "metadata": {
    "collapsed": true
   },
   "outputs": [],
   "source": [
    "file_Name1 = \"C:/Users/Charity Faith/Desktop/Data/_02_xVar\"\n",
    "fileObject1 = open(file_Name1,'wb') \n",
    "pickle.dump(xVar,fileObject1)   \n",
    "fileObject1.close()\n",
    "\n",
    "file_Name2 = \"C:/Users/Charity Faith/Desktop/Data/_02_subsetDF_all\"\n",
    "fileObject2 = open(file_Name2,'wb') \n",
    "pickle.dump(subsetDF_all,fileObject2)   \n",
    "fileObject2.close()\n",
    "\n",
    "file_Name3 = \"C:/Users/Charity Faith/Desktop/Data/_02_subsetDF_some\"\n",
    "fileObject3 = open(file_Name3,'wb') \n",
    "pickle.dump(subsetDF_some,fileObject3)   \n",
    "fileObject3.close()"
   ]
  }
 ],
 "metadata": {
  "kernelspec": {
   "display_name": "Python 3",
   "language": "python",
   "name": "python3"
  },
  "language_info": {
   "codemirror_mode": {
    "name": "ipython",
    "version": 3
   },
   "file_extension": ".py",
   "mimetype": "text/x-python",
   "name": "python",
   "nbconvert_exporter": "python",
   "pygments_lexer": "ipython3",
   "version": "3.6.0"
  }
 },
 "nbformat": 4,
 "nbformat_minor": 2
}
